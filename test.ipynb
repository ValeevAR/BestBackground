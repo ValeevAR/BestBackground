{
 "cells": [
  {
   "cell_type": "code",
   "execution_count": 13,
   "metadata": {},
   "outputs": [],
   "source": [
    "from Service.src.client import Client\n",
    "\n",
    "cl = Client('http://localhost:8080')\n",
    "\n",
    "result = cl.process_url(r'https://20.img.avito.st/image/1/1.qXzrx7a4BZXdbseQtfm7SthlB5NVZoednWMHl1tuDZ9d.DHsWwBn__Gqa0lakPyuP9rapez_JptsiMVQ6kV3Bz6M',\n",
    "               mode='blur')\n",
    "\n",
    "result"
   ]
  }
 ],
 "metadata": {
  "kernelspec": {
   "display_name": "base",
   "language": "python",
   "name": "python3"
  },
  "language_info": {
   "codemirror_mode": {
    "name": "ipython",
    "version": 3
   },
   "file_extension": ".py",
   "mimetype": "text/x-python",
   "name": "python",
   "nbconvert_exporter": "python",
   "pygments_lexer": "ipython3",
   "version": "3.9.7"
  },
  "orig_nbformat": 4
 },
 "nbformat": 4,
 "nbformat_minor": 2
}
